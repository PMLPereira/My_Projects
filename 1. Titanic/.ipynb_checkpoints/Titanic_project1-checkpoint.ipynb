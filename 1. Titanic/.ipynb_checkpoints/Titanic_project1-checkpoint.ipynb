{
 "cells": [
  {
   "cell_type": "markdown",
   "metadata": {
    "collapsed": true
   },
   "source": [
    "# TITANIC PROJECT EXAMPLE\n",
    "### Using Python"
   ]
  },
  {
   "cell_type": "markdown",
   "metadata": {
    "nbpresent": {
     "id": "95a9e0d2-8a48-4ef4-881e-3cd1b60b5c3e"
    }
   },
   "source": [
    "### PYTHON LIBRARIES"
   ]
  },
  {
   "cell_type": "code",
   "execution_count": 301,
   "metadata": {
    "collapsed": false,
    "nbpresent": {
     "id": "0dff3b59-45cc-4790-b324-d6f28a592952"
    }
   },
   "outputs": [],
   "source": [
    "# Data Analysis and Wrangling\n",
    "import pandas as pd\n",
    "import numpy as np\n",
    "import random as rnd\n",
    "import re\n",
    "\n",
    "# Data Visualization\n",
    "import seaborn as sns\n",
    "import matplotlib.pyplot as plt\n",
    "%matplotlib inline\n",
    "\n",
    "# Machine Learning\n",
    "from sklearn.linear_model import LogisticRegression\n",
    "from sklearn.svm import SVC, LinearSVC\n",
    "from sklearn import cross_validation\n",
    "from sklearn import svm\n",
    "from sklearn.ensemble import RandomForestClassifier, VotingClassifier , GradientBoostingClassifier\n",
    "from sklearn.neighbors import KNeighborsClassifier\n",
    "from sklearn.naive_bayes import GaussianNB\n",
    "from sklearn.linear_model import Perceptron\n",
    "from sklearn.linear_model import SGDClassifier\n",
    "from sklearn.tree import DecisionTreeClassifier\n",
    "from sklearn.feature_selection import SelectKBest, f_classif"
   ]
  },
  {
   "cell_type": "markdown",
   "metadata": {
    "nbpresent": {
     "id": "52d2c1db-05f9-4933-a3be-5d5f31a1c671"
    }
   },
   "source": [
    "### DATA IDENTIFICATION"
   ]
  },
  {
   "cell_type": "code",
   "execution_count": 207,
   "metadata": {
    "collapsed": false,
    "nbpresent": {
     "id": "c5a91d23-91ef-451b-850d-9ee393da397d"
    }
   },
   "outputs": [],
   "source": [
    "# Import Titanic Data\n",
    "train = pd.read_csv('train.csv')\n",
    "test = pd.read_csv('test.csv')\n",
    "data = pd.concat([train, test])\n",
    "data = data.reindex_axis(['PassengerId','Survived','Pclass','Name','Sex','Age','SibSp',\n",
    "                          'Parch', 'Ticket','Fare','Cabin','Embarked'], axis=1)"
   ]
  },
  {
   "cell_type": "code",
   "execution_count": 208,
   "metadata": {
    "collapsed": false,
    "nbpresent": {
     "id": "31e7e6f4-9122-456c-873c-6e8832ad79d3"
    }
   },
   "outputs": [
    {
     "name": "stdout",
     "output_type": "stream",
     "text": [
      "['PassengerId' 'Survived' 'Pclass' 'Name' 'Sex' 'Age' 'SibSp' 'Parch'\n",
      " 'Ticket' 'Fare' 'Cabin' 'Embarked']\n"
     ]
    }
   ],
   "source": [
    "### Analyze by describing data\n",
    "# Pandas also helps describe the datasets answering following questions early in our project.\n",
    "print(data.columns.values)"
   ]
  },
  {
   "cell_type": "markdown",
   "metadata": {},
   "source": [
    "## DATA EXPLORATION"
   ]
  },
  {
   "cell_type": "markdown",
   "metadata": {
    "nbpresent": {
     "id": "14cba1e1-755f-4f80-a724-ddb9a57802e7"
    }
   },
   "source": [
    "### VARIABLES IDENTIFICATION"
   ]
  },
  {
   "cell_type": "code",
   "execution_count": 209,
   "metadata": {
    "collapsed": false,
    "nbpresent": {
     "id": "d70ff4e1-9f52-444e-bc5e-0f5722f59805"
    }
   },
   "outputs": [
    {
     "data": {
      "text/plain": [
       "PassengerId      int64\n",
       "Survived       float64\n",
       "Pclass           int64\n",
       "Name            object\n",
       "Sex             object\n",
       "Age            float64\n",
       "SibSp            int64\n",
       "Parch            int64\n",
       "Ticket          object\n",
       "Fare           float64\n",
       "Cabin           object\n",
       "Embarked        object\n",
       "dtype: object"
      ]
     },
     "execution_count": 209,
     "metadata": {},
     "output_type": "execute_result"
    }
   ],
   "source": [
    "#Check current data type:\n",
    "data.dtypes"
   ]
  },
  {
   "cell_type": "raw",
   "metadata": {
    "collapsed": true
   },
   "source": [
    "Categorical Features:\n",
    "    # Categorical: Survived, Sex, Embarked\n",
    "    # Ordinal: Pclass\n",
    "\n",
    "Numerical Features:\n",
    "    # Continous: Age, Fare\n",
    "    # Discrete: SibSp, Parch"
   ]
  },
  {
   "cell_type": "code",
   "execution_count": null,
   "metadata": {
    "collapsed": true
   },
   "outputs": [],
   "source": [
    "# Curiosity: What would have been the price of the tickets in today's money? \n",
    "# Taking into account inflation, the price would have increased by about 106 times.\n",
    "Today_money = data[\"Fare\"].apply(lambda Fare: 106 * Fare)\n",
    "Today_money.round().head(10)"
   ]
  },
  {
   "cell_type": "markdown",
   "metadata": {},
   "source": [
    "### MISSING VALUES TREATMENT"
   ]
  },
  {
   "cell_type": "code",
   "execution_count": 210,
   "metadata": {
    "collapsed": false,
    "nbpresent": {
     "id": "491cb417-4e82-4ac0-b67c-50e4b7f7467c"
    }
   },
   "outputs": [
    {
     "name": "stdout",
     "output_type": "stream",
     "text": [
      "<class 'pandas.core.frame.DataFrame'>\n",
      "RangeIndex: 891 entries, 0 to 890\n",
      "Data columns (total 12 columns):\n",
      "PassengerId    891 non-null int64\n",
      "Survived       891 non-null int64\n",
      "Pclass         891 non-null int64\n",
      "Name           891 non-null object\n",
      "Sex            891 non-null object\n",
      "Age            714 non-null float64\n",
      "SibSp          891 non-null int64\n",
      "Parch          891 non-null int64\n",
      "Ticket         891 non-null object\n",
      "Fare           891 non-null float64\n",
      "Cabin          204 non-null object\n",
      "Embarked       889 non-null object\n",
      "dtypes: float64(2), int64(5), object(5)\n",
      "memory usage: 83.6+ KB\n",
      "________________________________________\n",
      "<class 'pandas.core.frame.DataFrame'>\n",
      "RangeIndex: 418 entries, 0 to 417\n",
      "Data columns (total 11 columns):\n",
      "PassengerId    418 non-null int64\n",
      "Pclass         418 non-null int64\n",
      "Name           418 non-null object\n",
      "Sex            418 non-null object\n",
      "Age            332 non-null float64\n",
      "SibSp          418 non-null int64\n",
      "Parch          418 non-null int64\n",
      "Ticket         418 non-null object\n",
      "Fare           417 non-null float64\n",
      "Cabin          91 non-null object\n",
      "Embarked       418 non-null object\n",
      "dtypes: float64(2), int64(4), object(5)\n",
      "memory usage: 36.0+ KB\n"
     ]
    }
   ],
   "source": [
    "# Checking Missing Values\n",
    "train.info()\n",
    "print('_'*40)\n",
    "test.info()"
   ]
  },
  {
   "cell_type": "code",
   "execution_count": 211,
   "metadata": {
    "collapsed": false,
    "nbpresent": {
     "id": "ebe9856a-7005-4895-8667-6bd45225bb64"
    }
   },
   "outputs": [
    {
     "data": {
      "text/plain": [
       "PassengerId      0\n",
       "Survived         0\n",
       "Pclass           0\n",
       "Name             0\n",
       "Sex              0\n",
       "Age            177\n",
       "SibSp            0\n",
       "Parch            0\n",
       "Ticket           0\n",
       "Fare             0\n",
       "Cabin          687\n",
       "Embarked         2\n",
       "dtype: int64"
      ]
     },
     "execution_count": 211,
     "metadata": {},
     "output_type": "execute_result"
    }
   ],
   "source": [
    "# Confirming Missing Values - Train data\n",
    "train.apply(lambda x: sum(x.isnull()),axis=0)"
   ]
  },
  {
   "cell_type": "code",
   "execution_count": 212,
   "metadata": {
    "collapsed": false,
    "nbpresent": {
     "id": "4dd8eb37-5251-4577-8299-2a100e80137e"
    }
   },
   "outputs": [
    {
     "data": {
      "text/plain": [
       "PassengerId      0\n",
       "Pclass           0\n",
       "Name             0\n",
       "Sex              0\n",
       "Age             86\n",
       "SibSp            0\n",
       "Parch            0\n",
       "Ticket           0\n",
       "Fare             1\n",
       "Cabin          327\n",
       "Embarked         0\n",
       "dtype: int64"
      ]
     },
     "execution_count": 212,
     "metadata": {},
     "output_type": "execute_result"
    }
   ],
   "source": [
    "# Confirming Missing Values - Test data\n",
    "test.apply(lambda x: sum(x.isnull()),axis=0)"
   ]
  },
  {
   "cell_type": "raw",
   "metadata": {
    "nbpresent": {
     "id": "a3f0ee90-0775-4eb9-bfa4-8e990d6b145e"
    }
   },
   "source": [
    "# Total Missing Data:\n",
    "\n",
    "Train (891 records):\n",
    "    # Age      = 177 = 19.86%\n",
    "    # Cabin    = 687 = 77.10%\n",
    "    # Embarked = 2   = 0.22%\n",
    "\n",
    "Test (418 records):\n",
    "    # Age   = 86     = 20.57%\n",
    "    # Cabin = 327    = 78.23%\n",
    "    # Fare  = 1      = 0%\n",
    "\n",
    "The number of 'Cabin' missing values is very high ~78% from both training and test datasets. \n",
    "Prediction of these values might bring misleading values. "
   ]
  },
  {
   "cell_type": "markdown",
   "metadata": {},
   "source": [
    "### VARIABLES ANALYSE"
   ]
  },
  {
   "cell_type": "raw",
   "metadata": {},
   "source": [
    "Categorical Features:\n",
    "    # Categorical: Survived, Sex, Embarked\n",
    "    # Ordinal: Pclass\n",
    "\n",
    "Numerical Features:\n",
    "    # Continous: Age, Fare\n",
    "    # Discrete: SibSp, Parch"
   ]
  },
  {
   "cell_type": "code",
   "execution_count": 213,
   "metadata": {
    "collapsed": false
   },
   "outputs": [
    {
     "data": {
      "text/plain": [
       "[       PassengerId  Survived  Pclass    Age  SibSp  Parch   Fare\n",
       " count        891.0     891.0   891.0  714.0  891.0  891.0  891.0\n",
       " mean         446.0       0.0     2.0   30.0    1.0    0.0   32.0\n",
       " std          257.0       0.0     1.0   15.0    1.0    1.0   50.0\n",
       " min            1.0       0.0     1.0    0.0    0.0    0.0    0.0\n",
       " 25%          224.0       0.0     2.0    NaN    0.0    0.0    8.0\n",
       " 50%          446.0       0.0     3.0    NaN    0.0    0.0   14.0\n",
       " 75%          668.0       1.0     3.0    NaN    1.0    0.0   31.0\n",
       " max          891.0       1.0     3.0   80.0    8.0    6.0  512.0,\n",
       "        PassengerId  Pclass    Age  SibSp  Parch   Fare\n",
       " count        418.0   418.0  332.0  418.0  418.0  417.0\n",
       " mean        1100.0     2.0   30.0    0.0    0.0   36.0\n",
       " std          121.0     1.0   14.0    1.0    1.0   56.0\n",
       " min          892.0     1.0    0.0    0.0    0.0    0.0\n",
       " 25%          996.0     1.0    NaN    0.0    0.0    NaN\n",
       " 50%         1100.0     3.0    NaN    0.0    0.0    NaN\n",
       " 75%         1205.0     3.0    NaN    1.0    0.0    NaN\n",
       " max         1309.0     3.0   76.0    8.0    9.0  512.0]"
      ]
     },
     "execution_count": 213,
     "metadata": {},
     "output_type": "execute_result"
    }
   ],
   "source": [
    "# Checking Struture of Train and Test Dataset\n",
    "[train.describe().round(), test.describe().round()]"
   ]
  },
  {
   "cell_type": "code",
   "execution_count": 214,
   "metadata": {
    "collapsed": false,
    "nbpresent": {
     "id": "0c0b4941-fab7-4469-9b46-d134e3aeb244"
    }
   },
   "outputs": [
    {
     "data": {
      "text/html": [
       "<div>\n",
       "<table border=\"1\" class=\"dataframe\">\n",
       "  <thead>\n",
       "    <tr style=\"text-align: right;\">\n",
       "      <th></th>\n",
       "      <th>Pclass</th>\n",
       "      <th>Survived</th>\n",
       "      <th>Embarked</th>\n",
       "      <th>Survived</th>\n",
       "      <th>Sex</th>\n",
       "      <th>Survived</th>\n",
       "    </tr>\n",
       "  </thead>\n",
       "  <tbody>\n",
       "    <tr>\n",
       "      <th>0</th>\n",
       "      <td>1</td>\n",
       "      <td>0.629630</td>\n",
       "      <td>C</td>\n",
       "      <td>0.553571</td>\n",
       "      <td>female</td>\n",
       "      <td>0.742038</td>\n",
       "    </tr>\n",
       "    <tr>\n",
       "      <th>1</th>\n",
       "      <td>2</td>\n",
       "      <td>0.472826</td>\n",
       "      <td>Q</td>\n",
       "      <td>0.389610</td>\n",
       "      <td>male</td>\n",
       "      <td>0.188908</td>\n",
       "    </tr>\n",
       "    <tr>\n",
       "      <th>2</th>\n",
       "      <td>3</td>\n",
       "      <td>0.242363</td>\n",
       "      <td>S</td>\n",
       "      <td>0.336957</td>\n",
       "      <td>NaN</td>\n",
       "      <td>NaN</td>\n",
       "    </tr>\n",
       "  </tbody>\n",
       "</table>\n",
       "</div>"
      ],
      "text/plain": [
       "   Pclass  Survived Embarked  Survived     Sex  Survived\n",
       "0       1  0.629630        C  0.553571  female  0.742038\n",
       "1       2  0.472826        Q  0.389610    male  0.188908\n",
       "2       3  0.242363        S  0.336957     NaN       NaN"
      ]
     },
     "execution_count": 214,
     "metadata": {},
     "output_type": "execute_result"
    }
   ],
   "source": [
    "# Table with Survived by Pclass, Embarked and Sex\n",
    "a = data[['Pclass', 'Survived']].groupby(['Pclass'], as_index=False).mean().sort_values(by='Survived', ascending=False)\n",
    "b = data[['Embarked', 'Survived']].groupby(['Embarked'], as_index=False).mean().sort_values(by='Survived', ascending=False)\n",
    "c = data[['Sex', 'Survived']].groupby(['Sex'], as_index=False).mean().sort_values(by='Survived', ascending=False)\n",
    "Surstats = pd.concat ([a,b,c],axis =1)\n",
    "Surstats"
   ]
  },
  {
   "cell_type": "raw",
   "metadata": {
    "collapsed": false,
    "nbpresent": {
     "id": "c8c7e669-92a7-4c96-ac05-d684ccc61cec"
    }
   },
   "source": [
    "The outcome tells us that only 19% of men survived, and only 26% of womans died. Also interesting is that 63% of the survival percentage are from 1st class, 47% from 2nd class and only 24% from 3rd class."
   ]
  },
  {
   "cell_type": "code",
   "execution_count": null,
   "metadata": {
    "collapsed": true
   },
   "outputs": [],
   "source": [
    "# Analysing Variables Distribution\n",
    "data.hist(column=\"Fare\",by=\"Pclass\",bins=30)"
   ]
  },
  {
   "cell_type": "code",
   "execution_count": null,
   "metadata": {
    "collapsed": true
   },
   "outputs": [],
   "source": [
    "data.hist(column=\"Fare\",by=\"Title\",bins=30)"
   ]
  },
  {
   "cell_type": "code",
   "execution_count": null,
   "metadata": {
    "collapsed": true
   },
   "outputs": [],
   "source": [
    "data.hist(column=\"Age\",by=\"Pclass\",bins=30)"
   ]
  },
  {
   "cell_type": "code",
   "execution_count": null,
   "metadata": {
    "collapsed": true
   },
   "outputs": [],
   "source": [
    "data.boxplot(column=\"Age\",by=\"Pclass\")"
   ]
  },
  {
   "cell_type": "code",
   "execution_count": null,
   "metadata": {
    "collapsed": true
   },
   "outputs": [],
   "source": [
    "data.boxplot(column=\"Fare\",by=\"Embarked\")"
   ]
  },
  {
   "cell_type": "code",
   "execution_count": null,
   "metadata": {
    "collapsed": true
   },
   "outputs": [],
   "source": [
    "plt.figure(figsize=(15,8))\n",
    "ax = plt.subplot()\n",
    "ax.scatter(data[data['Survived']==1]['Age'],data[data['Survived']==1]['Fare'],c='green',s=40)\n",
    "ax.scatter(data[data['Survived']==0]['Age'],data[data['Survived']==0]['Fare'],c='red',s=40)\n",
    "ax.set_xlabel('Age')\n",
    "ax.set_ylabel('Fare')\n",
    "ax.legend(('Survived','Dead'),scatterpoints=1,loc='upper right',fontsize=15,)"
   ]
  },
  {
   "cell_type": "markdown",
   "metadata": {
    "collapsed": false,
    "nbpresent": {
     "id": "b8d9d474-8f0d-4c97-936c-b14289c0f98c"
    }
   },
   "source": [
    "## FEATURE ENGINEERING"
   ]
  },
  {
   "cell_type": "markdown",
   "metadata": {},
   "source": [
    "###  VARIABLE CREATION & TRANSFORMATION"
   ]
  },
  {
   "cell_type": "code",
   "execution_count": 215,
   "metadata": {
    "collapsed": false,
    "nbpresent": {
     "id": "c4b774b0-299f-4b6b-b6e1-0d0a6db93a74"
    }
   },
   "outputs": [],
   "source": [
    "# Creating the variable 'Title' from 'Name'\n",
    "data['Title'] = data['Name'].map(lambda name: name.split(',')[1].split('.')[0].strip())\n",
    "\n",
    "data[\"Title\"] = data[\"Title\"].apply(lambda x: \"Master\" if re.search(\"Master\",x) else x)\n",
    "data[\"Title\"] = data[\"Title\"].apply(lambda x: \"Miss\" if re.search(\"Miss|Mlle|Lady\",x) else x)\n",
    "data[\"Title\"] = data[\"Title\"].apply(lambda x: \"Mrs\" if re.search(\"Mrs|Mme|Countess|Ms|Dona\",x) else x)\n",
    "data[\"Title\"] = data[\"Title\"].apply(lambda x: \"Mr\" if not re.search(\"Miss|Mrs|Master\",x) else x)\n",
    "\n",
    "data['Title'] = data['Title'].apply(lambda x: 1 if x==\"Master\" else 2 if x==\"Miss\" else 3 if x==\"Mrs\" else 4)"
   ]
  },
  {
   "cell_type": "code",
   "execution_count": 216,
   "metadata": {
    "collapsed": false
   },
   "outputs": [],
   "source": [
    "# Creating the variable 'Family' from 'SibSp' and 'Parch' (passeger plus husband/wife and kids) \n",
    "data[\"Family\"] = data[\"SibSp\"] + data[\"Parch\"] + 1 \n",
    "\n",
    "data['Family'] = data['Family'].apply(lambda x: 'Single' if x==1 else 'Big' if x>=5 else 'Medium') \n",
    "data['Family'] = data['Family'].apply(lambda x: 1 if x=='Single' else 2 if x=='Medium' else 3)"
   ]
  },
  {
   "cell_type": "code",
   "execution_count": 217,
   "metadata": {
    "collapsed": true
   },
   "outputs": [],
   "source": [
    "# Transformation of 'Sex' Variable\n",
    "data['Sex'] = data['Sex'].apply(lambda x: 1 if x==\"female\" else 0)"
   ]
  },
  {
   "cell_type": "code",
   "execution_count": 218,
   "metadata": {
    "collapsed": true
   },
   "outputs": [],
   "source": [
    "# Transformation of 'Embarked' Variable\n",
    "data['Embarked'] = data['Embarked'].apply(lambda x: 1 if x==\"S\" else 2 if x==\"C\" else 3 if x==\"Q\" else 0)"
   ]
  },
  {
   "cell_type": "code",
   "execution_count": 271,
   "metadata": {
    "collapsed": false
   },
   "outputs": [],
   "source": [
    "# Transformation of 'Fare' Variable into classes\n",
    "data['Fare'] = data['Fare'].apply(lambda x: 'cheap' if x<=50 else 'expensive' if x>=200 else 'medium') \n",
    "data['Fare'] = data['Fare'].apply(lambda x: 1 if x=='cheap' else 3 if x=='expensive' else 2)"
   ]
  },
  {
   "cell_type": "markdown",
   "metadata": {},
   "source": [
    "### MISSING VALUES TREATMENT"
   ]
  },
  {
   "cell_type": "code",
   "execution_count": 253,
   "metadata": {
    "collapsed": false
   },
   "outputs": [
    {
     "data": {
      "text/plain": [
       "0    7.25\n",
       "Name: Fare, dtype: float64"
      ]
     },
     "execution_count": 253,
     "metadata": {},
     "output_type": "execute_result"
    }
   ],
   "source": [
    "# Treating Missing Values - Fare\n",
    "data[\"Fare\"].fillna(value=data[\"Fare\"].median()).head(1)"
   ]
  },
  {
   "cell_type": "code",
   "execution_count": 236,
   "metadata": {
    "collapsed": false
   },
   "outputs": [
    {
     "data": {
      "text/plain": [
       "0    1\n",
       "Name: Embarked, dtype: int64"
      ]
     },
     "execution_count": 236,
     "metadata": {},
     "output_type": "execute_result"
    }
   ],
   "source": [
    "# Treating Missing Values - Embarked\n",
    "data[\"Embarked\"].fillna(value=data[\"Embarked\"].median()).head(1)"
   ]
  },
  {
   "cell_type": "code",
   "execution_count": 247,
   "metadata": {
    "collapsed": true
   },
   "outputs": [],
   "source": [
    "# Treating Missing Values - Age\n",
    "data['Age'] = data['Age'].apply(lambda x: 'child' if x<=17 else 'adult' if x>=30 else 'young') "
   ]
  },
  {
   "cell_type": "code",
   "execution_count": 257,
   "metadata": {
    "collapsed": false
   },
   "outputs": [
    {
     "name": "stderr",
     "output_type": "stream",
     "text": [
      "C:\\Users\\Pedro\\Anaconda2\\lib\\site-packages\\ipykernel\\__main__.py:1: SettingWithCopyWarning: \n",
      "A value is trying to be set on a copy of a slice from a DataFrame\n",
      "\n",
      "See the caveats in the documentation: http://pandas.pydata.org/pandas-docs/stable/indexing.html#indexing-view-versus-copy\n",
      "  if __name__ == '__main__':\n",
      "C:\\Users\\Pedro\\Anaconda2\\lib\\site-packages\\ipykernel\\__main__.py:2: SettingWithCopyWarning: \n",
      "A value is trying to be set on a copy of a slice from a DataFrame\n",
      "\n",
      "See the caveats in the documentation: http://pandas.pydata.org/pandas-docs/stable/indexing.html#indexing-view-versus-copy\n",
      "  from ipykernel import kernelapp as app\n",
      "C:\\Users\\Pedro\\Anaconda2\\lib\\site-packages\\ipykernel\\__main__.py:3: SettingWithCopyWarning: \n",
      "A value is trying to be set on a copy of a slice from a DataFrame\n",
      "\n",
      "See the caveats in the documentation: http://pandas.pydata.org/pandas-docs/stable/indexing.html#indexing-view-versus-copy\n",
      "  app.launch_new_instance()\n",
      "C:\\Users\\Pedro\\Anaconda2\\lib\\site-packages\\ipykernel\\__main__.py:4: SettingWithCopyWarning: \n",
      "A value is trying to be set on a copy of a slice from a DataFrame\n",
      "\n",
      "See the caveats in the documentation: http://pandas.pydata.org/pandas-docs/stable/indexing.html#indexing-view-versus-copy\n"
     ]
    }
   ],
   "source": [
    "data[\"Age\"][data[\"Title\"] == 1] = data[\"Age\"].fillna('child')\n",
    "data[\"Age\"][data[\"Title\"] == 2] = data[\"Age\"].fillna('child')\n",
    "data[\"Age\"][data[\"Title\"] == 3] = data[\"Age\"].fillna('adult')\n",
    "data[\"Age\"][data[\"Title\"] == 4] = data[\"Age\"].fillna('adult')\n",
    "\n",
    "data['Age'] = data['Age'].apply(lambda x: 1 if 'child' else 2 if 'young' else 3) "
   ]
  },
  {
   "cell_type": "markdown",
   "metadata": {},
   "source": [
    "## MODELLING DATA"
   ]
  },
  {
   "cell_type": "code",
   "execution_count": null,
   "metadata": {
    "collapsed": true
   },
   "outputs": [],
   "source": [
    "# Confirming inesxistance of missing values \n",
    "# The variable Cabin will be ignored because of the high number of missing values (~77%).\n",
    "data.apply(lambda x: sum(x.isnull()),axis=0)"
   ]
  },
  {
   "cell_type": "code",
   "execution_count": 278,
   "metadata": {
    "collapsed": true
   },
   "outputs": [],
   "source": [
    "# Select predictors array\n",
    "predictors = [\"Sex\",\"Title\",\"Pclass\",\"Fare\",\"Embarked\",\"Age\",\"Family\"]"
   ]
  },
  {
   "cell_type": "code",
   "execution_count": 279,
   "metadata": {
    "collapsed": true
   },
   "outputs": [],
   "source": [
    "# Isolate the test and train variables\n",
    "train_model = data[0:891].copy()\n",
    "test_model = data[891:].copy()"
   ]
  },
  {
   "cell_type": "code",
   "execution_count": 281,
   "metadata": {
    "collapsed": true
   },
   "outputs": [],
   "source": [
    "# Select the train and test features values\n",
    "train_model.features = train_model[predictors].values\n",
    "test_model.features = test_model[predictors].values"
   ]
  },
  {
   "cell_type": "code",
   "execution_count": 293,
   "metadata": {
    "collapsed": false
   },
   "outputs": [
    {
     "name": "stdout",
     "output_type": "stream",
     "text": [
      "[ 68.85199425  49.94207413  24.59567142          nan   2.63150678\n",
      "          nan   2.93422191]\n"
     ]
    }
   ],
   "source": [
    "# Feature selection\n",
    "target = train_model[\"Survived\"].values\n",
    "k = train_model.features.shape[1]\n",
    "selector = SelectKBest(f_classif, k=k)\n",
    "selector.fit(train_model.features, target)\n",
    "scores = -np.log10(selector.pvalues_)\n",
    "print(scores)"
   ]
  },
  {
   "cell_type": "code",
   "execution_count": 302,
   "metadata": {
    "collapsed": false
   },
   "outputs": [
    {
     "name": "stdout",
     "output_type": "stream",
     "text": [
      "Accuracy: 80.584 (+/- 1.11) [LGR]\n",
      "Accuracy: 78.227 (+/- 0.42) [SVC]\n",
      "Accuracy: 82.267 (+/- 1.11) [RFC]\n",
      "Accuracy: 82.828 (+/- 1.20) [GBC]\n",
      "Accuracy: 82.267 (+/- 1.11) [Ens]\n"
     ]
    }
   ],
   "source": [
    "kfold_cv = cross_validation.KFold(train_model.shape[0], n_folds=3, random_state=1)\n",
    "\n",
    "log_reg = LogisticRegression(random_state=1)\n",
    "scores = cross_validation.cross_val_score(log_reg, train_model.features, target, cv=kfold_cv)\n",
    "print(\"Accuracy: %0.3f (+/- %0.2f) [%s]\" % (scores.mean()*100, scores.std()*100, 'LGR'))\n",
    "\n",
    "svc = svm.SVC(kernel='linear', C=1.0, probability=True)\n",
    "scores = cross_validation.cross_val_score(svc, train_model.features, target, cv=kfold_cv)\n",
    "print(\"Accuracy: %0.3f (+/- %0.2f) [%s]\" % (scores.mean()*100, scores.std()*100, 'SVC'))\n",
    "\n",
    "rfc = RandomForestClassifier(random_state=1, n_estimators=50, min_samples_split=4, min_samples_leaf=2)\n",
    "scores = cross_validation.cross_val_score(rfc, train_model.features, target, cv=kfold_cv)\n",
    "print(\"Accuracy: %0.3f (+/- %0.2f) [%s]\" % (scores.mean()*100, scores.std()*100, 'RFC'))\n",
    "\n",
    "gbc = GradientBoostingClassifier(random_state=1, n_estimators=25, max_depth=3)\n",
    "scores = cross_validation.cross_val_score(gbc, train_model.features, target, cv=kfold_cv)\n",
    "print(\"Accuracy: %0.3f (+/- %0.2f) [%s]\" % (scores.mean()*100, scores.std()*100, 'GBC'))\n",
    "\n",
    "vtc = VotingClassifier(estimators=[('RFC', rfc),('GBC',gbc)], voting='soft')\n",
    "scores = cross_validation.cross_val_score(vtc, train_model.features, target, cv=kfold_cv)\n",
    "print(\"Accuracy: %0.3f (+/- %0.2f) [%s]\" % (scores.mean()*100, scores.std()*100, 'Ens'))\n"
   ]
  },
  {
   "cell_type": "code",
   "execution_count": 303,
   "metadata": {
    "collapsed": false
   },
   "outputs": [
    {
     "name": "stdout",
     "output_type": "stream",
     "text": [
      "[ 0.  1.  0.  0.  1.  0.  1.  0.  1.  0.  0.  0.  1.  0.  1.  1.  0.  0.\n",
      "  0.  1.  0.  1.  1.  0.  1.  0.  1.  0.  0.  0.  0.  0.  1.  1.  0.  0.\n",
      "  0.  0.  0.  0.  0.  0.  0.  1.  1.  0.  0.  0.  1.  1.  0.  0.  1.  1.\n",
      "  0.  0.  0.  0.  0.  1.  0.  0.  0.  1.  1.  1.  1.  0.  0.  1.  1.  0.\n",
      "  0.  0.  1.  0.  0.  1.  0.  1.  1.  0.  0.  0.  0.  0.  1.  0.  1.  1.\n",
      "  1.  0.  1.  0.  0.  0.  1.  0.  0.  0.  1.  0.  0.  0.  1.  0.  0.  0.\n",
      "  0.  0.  0.  1.  1.  1.  1.  0.  0.  0.  0.  1.  1.  0.  1.  0.  0.  0.\n",
      "  0.  1.  0.  0.  0.  0.  0.  0.  0.  0.  0.  0.  0.  0.  0.  1.  0.  0.\n",
      "  0.  0.  0.  0.  0.  0.  1.  0.  0.  1.  0.  0.  1.  0.  0.  1.  1.  1.\n",
      "  1.  0.  0.  1.  0.  0.  1.  0.  0.  0.  0.  0.  0.  1.  1.  0.  1.  1.\n",
      "  0.  0.  1.  0.  1.  0.  1.  0.  0.  0.  0.  0.  1.  0.  1.  0.  1.  0.\n",
      "  0.  1.  1.  1.  0.  1.  0.  0.  1.  0.  1.  0.  0.  0.  0.  1.  0.  0.\n",
      "  1.  0.  1.  0.  1.  0.  1.  0.  1.  1.  0.  1.  0.  0.  0.  1.  0.  0.\n",
      "  0.  0.  0.  0.  1.  1.  1.  1.  0.  0.  1.  0.  1.  0.  1.  1.  1.  0.\n",
      "  0.  0.  0.  0.  0.  0.  1.  0.  0.  0.  1.  0.  0.  0.  0.  0.  0.  0.\n",
      "  0.  0.  1.  1.  0.  1.  0.  0.  0.  0.  0.  1.  1.  1.  0.  0.  0.  0.\n",
      "  0.  0.  0.  1.  0.  0.  0.  0.  1.  0.  0.  0.  0.  0.  0.  0.  1.  1.\n",
      "  0.  1.  0.  1.  0.  0.  0.  1.  1.  1.  0.  0.  0.  0.  0.  0.  0.  0.\n",
      "  1.  0.  1.  0.  0.  0.  1.  0.  0.  1.  0.  0.  0.  0.  0.  1.  0.  0.\n",
      "  0.  1.  1.  0.  0.  1.  0.  1.  1.  0.  0.  0.  0.  0.  1.  0.  0.  1.\n",
      "  0.  1.  1.  0.  1.  0.  0.  0.  1.  0.  0.  1.  0.  0.  1.  1.  0.  0.\n",
      "  0.  0.  0.  0.  1.  1.  0.  1.  0.  0.  0.  0.  0.  1.  1.  0.  0.  1.\n",
      "  0.  1.  0.  0.  1.  0.  1.  0.  0.  0.  0.  0.  1.  0.  1.  1.  0.  0.\n",
      "  1.  0.  0.  1.]\n"
     ]
    }
   ],
   "source": [
    "# Create a prediction for test dataset\n",
    "vtc.fit(train_model.features, target)\n",
    "prediction = vtc.predict(test_model.features) \n",
    "print(prediction)"
   ]
  },
  {
   "cell_type": "code",
   "execution_count": 304,
   "metadata": {
    "collapsed": true
   },
   "outputs": [],
   "source": [
    "# Create a data frame with two columns: PassengerId & Survived. Survived contains your predictions\n",
    "PassengerId =np.array(test[\"PassengerId\"]).astype(int)\n",
    "solution = pd.DataFrame(prediction, PassengerId, columns = [\"Survived\"])"
   ]
  },
  {
   "cell_type": "code",
   "execution_count": 306,
   "metadata": {
    "collapsed": false
   },
   "outputs": [
    {
     "name": "stdout",
     "output_type": "stream",
     "text": [
      "Project Done!!!!!!\n"
     ]
    }
   ],
   "source": [
    "# Write your solution to a csv file with the name my_solution.csv\n",
    "solution.to_csv(\"titanic_sol_py.csv\", index_label = [\"PassengerId\"])\n",
    "print(\"Project Done!!!!!!\")"
   ]
  }
 ],
 "metadata": {
  "anaconda-cloud": {},
  "kernelspec": {
   "display_name": "Python [conda root]",
   "language": "python",
   "name": "conda-root-py"
  },
  "language_info": {
   "codemirror_mode": {
    "name": "ipython",
    "version": 2
   },
   "file_extension": ".py",
   "mimetype": "text/x-python",
   "name": "python",
   "nbconvert_exporter": "python",
   "pygments_lexer": "ipython2",
   "version": "2.7.12"
  },
  "nbpresent": {
   "slides": {
    "0674f70e-c7a6-46b3-ab0f-ad4aef6d10f9": {
     "id": "0674f70e-c7a6-46b3-ab0f-ad4aef6d10f9",
     "prev": "5d50b8cc-ab92-45bf-b2f3-31d18aa47657",
     "regions": {
      "c869b412-b0b0-41c1-b4e5-ff99eac00940": {
       "attrs": {
        "height": 0.8,
        "width": 0.8,
        "x": 0.1,
        "y": 0.1
       },
       "content": {
        "cell": "31e7e6f4-9122-456c-873c-6e8832ad79d3",
        "part": "whole"
       },
       "id": "c869b412-b0b0-41c1-b4e5-ff99eac00940"
      }
     }
    },
    "111e2496-55ff-4fab-8cd5-6e11a2757a23": {
     "id": "111e2496-55ff-4fab-8cd5-6e11a2757a23",
     "prev": "d850c7eb-1272-41e2-91b1-c60a6138ddf0",
     "regions": {
      "cad8b3d2-9fee-443f-a812-b63b88f15493": {
       "attrs": {
        "height": 0.8,
        "width": 0.8,
        "x": 0.1,
        "y": 0.1
       },
       "content": {
        "cell": "328368f6-b467-4fe2-9175-090bbed2f247",
        "part": "whole"
       },
       "id": "cad8b3d2-9fee-443f-a812-b63b88f15493"
      }
     }
    },
    "12164edf-589e-415c-830e-0f14bd486f93": {
     "id": "12164edf-589e-415c-830e-0f14bd486f93",
     "prev": "1384e916-2e53-474f-8ad4-00464f3c5506",
     "regions": {
      "7956effd-b72a-4138-bd40-67387c014b07": {
       "attrs": {
        "height": 0.8,
        "width": 0.8,
        "x": 0.1,
        "y": 0.1
       },
       "content": {
        "cell": "d588eec1-dc3b-4e21-94cd-826192f147b0",
        "part": "whole"
       },
       "id": "7956effd-b72a-4138-bd40-67387c014b07"
      }
     }
    },
    "1384e916-2e53-474f-8ad4-00464f3c5506": {
     "id": "1384e916-2e53-474f-8ad4-00464f3c5506",
     "prev": "fbe00b72-3762-44c3-b5fc-b3fb28970a9c",
     "regions": {
      "0e437556-13e8-43a0-a322-83e881f02659": {
       "attrs": {
        "height": 0.8,
        "width": 0.8,
        "x": 0.1,
        "y": 0.1
       },
       "content": {
        "cell": "756d04e0-9314-4497-a769-487c609ee3e8",
        "part": "whole"
       },
       "id": "0e437556-13e8-43a0-a322-83e881f02659"
      }
     }
    },
    "17adee46-88f0-4738-8303-2a89fbe99e53": {
     "id": "17adee46-88f0-4738-8303-2a89fbe99e53",
     "prev": "cb76ba8f-db22-40ea-9b30-c68e655d44d3",
     "regions": {
      "fc3bf118-0cdc-4ba9-8133-ab473881838d": {
       "attrs": {
        "height": 0.8,
        "width": 0.8,
        "x": 0.1,
        "y": 0.1
       },
       "content": {
        "cell": "900a46f6-d4d1-4dbc-bfa5-cdf901e166bd",
        "part": "whole"
       },
       "id": "fc3bf118-0cdc-4ba9-8133-ab473881838d"
      }
     }
    },
    "279fa5c1-cbe1-4768-a444-ab6b7da604b0": {
     "id": "279fa5c1-cbe1-4768-a444-ab6b7da604b0",
     "prev": "c348d1d6-a667-4229-9367-332331df9cc3",
     "regions": {
      "1022a7e8-4b19-4bd6-8515-cf5c2826b15f": {
       "attrs": {
        "height": 0.8,
        "width": 0.8,
        "x": 0.1,
        "y": 0.1
       },
       "content": {
        "cell": "0dff3b59-45cc-4790-b324-d6f28a592952",
        "part": "whole"
       },
       "id": "1022a7e8-4b19-4bd6-8515-cf5c2826b15f"
      }
     }
    },
    "30195b1b-a165-472b-8253-793600df7164": {
     "id": "30195b1b-a165-472b-8253-793600df7164",
     "prev": "4aa33ad1-4b1c-4520-9ade-03752a33f0fd",
     "regions": {
      "e70b7328-fd7e-4bba-a991-e8ed334253a5": {
       "attrs": {
        "height": 0.8,
        "width": 0.8,
        "x": 0.1,
        "y": 0.1
       },
       "content": {
        "cell": "011f8520-82bf-43a5-9f8f-0ade41676fb5",
        "part": "whole"
       },
       "id": "e70b7328-fd7e-4bba-a991-e8ed334253a5"
      }
     }
    },
    "3624e5fd-0248-4c2e-9bb0-ccc7112a2154": {
     "id": "3624e5fd-0248-4c2e-9bb0-ccc7112a2154",
     "prev": "87e2b20d-ebe3-4277-9335-09d1f4e65358",
     "regions": {
      "21deac79-9d8e-4063-9fb9-2da262b004c1": {
       "attrs": {
        "height": 0.8,
        "width": 0.8,
        "x": 0.1,
        "y": 0.1
       },
       "content": {
        "cell": "d70ff4e1-9f52-444e-bc5e-0f5722f59805",
        "part": "whole"
       },
       "id": "21deac79-9d8e-4063-9fb9-2da262b004c1"
      }
     }
    },
    "38566e44-3284-4374-80ae-0c54fd3e3ad2": {
     "id": "38566e44-3284-4374-80ae-0c54fd3e3ad2",
     "prev": "90928a03-aa2d-4726-8804-bfb18d53efb7",
     "regions": {
      "f734fc5b-ad25-446f-b1d8-d666e745cabe": {
       "attrs": {
        "height": 0.8,
        "width": 0.8,
        "x": 0.1,
        "y": 0.1
       },
       "content": {
        "cell": "ebe9856a-7005-4895-8667-6bd45225bb64",
        "part": "whole"
       },
       "id": "f734fc5b-ad25-446f-b1d8-d666e745cabe"
      }
     }
    },
    "43a91c8a-4e34-430d-bec9-779b694cc223": {
     "id": "43a91c8a-4e34-430d-bec9-779b694cc223",
     "prev": "7c14b0f9-350c-40b9-89cf-51a4c10de834",
     "regions": {
      "fff0c62d-328a-4b01-9b50-89629c2435fc": {
       "attrs": {
        "height": 0.8,
        "width": 0.8,
        "x": 0.1,
        "y": 0.1
       },
       "content": {
        "cell": "c4b774b0-299f-4b6b-b6e1-0d0a6db93a74",
        "part": "whole"
       },
       "id": "fff0c62d-328a-4b01-9b50-89629c2435fc"
      }
     }
    },
    "497a535f-253d-45f2-9862-c5c05adfa40d": {
     "id": "497a535f-253d-45f2-9862-c5c05adfa40d",
     "prev": "e0bfbb44-3106-4631-92db-3df5e83aa806",
     "regions": {
      "bf89329f-9289-47d3-9c41-2877bcad034d": {
       "attrs": {
        "height": 0.8,
        "width": 0.8,
        "x": 0.1,
        "y": 0.1
       },
       "content": {
        "cell": "b4256287-c1ac-4561-8814-986a949eacf1",
        "part": "whole"
       },
       "id": "bf89329f-9289-47d3-9c41-2877bcad034d"
      }
     }
    },
    "4aa33ad1-4b1c-4520-9ade-03752a33f0fd": {
     "id": "4aa33ad1-4b1c-4520-9ade-03752a33f0fd",
     "prev": "f3becb7f-aa3e-4c90-8daa-7140f8f50cfa",
     "regions": {
      "ca2e9f37-208c-4e63-836b-bf37d77ad772": {
       "attrs": {
        "height": 0.8,
        "width": 0.8,
        "x": 0.1,
        "y": 0.1
       },
       "content": {
        "cell": "6e29b6f9-6d7d-45da-9f36-7071d11bec26",
        "part": "whole"
       },
       "id": "ca2e9f37-208c-4e63-836b-bf37d77ad772"
      }
     }
    },
    "59cbcb23-dec3-4b67-8d10-63869bec3769": {
     "id": "59cbcb23-dec3-4b67-8d10-63869bec3769",
     "prev": "b7d7c657-eb43-4e4e-8e85-c3a0b89eff48",
     "regions": {
      "0aec3a39-e7ab-4bba-9eb6-feb9dc11a8b8": {
       "attrs": {
        "height": 0.8,
        "width": 0.8,
        "x": 0.1,
        "y": 0.1
       },
       "content": {
        "cell": "c8c7e669-92a7-4c96-ac05-d684ccc61cec",
        "part": "whole"
       },
       "id": "0aec3a39-e7ab-4bba-9eb6-feb9dc11a8b8"
      }
     }
    },
    "5bdfcb17-9f79-4db1-af37-35a5619259a7": {
     "id": "5bdfcb17-9f79-4db1-af37-35a5619259a7",
     "prev": "f61b165b-a9b4-45c3-a6ec-91781b93842c",
     "regions": {
      "a281a438-9d6c-4d95-b664-f94340dec466": {
       "attrs": {
        "height": 0.8,
        "width": 0.8,
        "x": 0.1,
        "y": 0.1
       },
       "content": {
        "cell": "3efb05ed-2e73-4a68-84c0-2ff770ca637b",
        "part": "whole"
       },
       "id": "a281a438-9d6c-4d95-b664-f94340dec466"
      }
     }
    },
    "5d50b8cc-ab92-45bf-b2f3-31d18aa47657": {
     "id": "5d50b8cc-ab92-45bf-b2f3-31d18aa47657",
     "prev": "a5a39a79-9354-4d40-953a-11f56ebe10d8",
     "regions": {
      "8cf8e1eb-dcc9-41c6-83e0-e73411f984f3": {
       "attrs": {
        "height": 0.8,
        "width": 0.8,
        "x": 0.1,
        "y": 0.1
       },
       "content": {
        "cell": "c5a91d23-91ef-451b-850d-9ee393da397d",
        "part": "whole"
       },
       "id": "8cf8e1eb-dcc9-41c6-83e0-e73411f984f3"
      }
     }
    },
    "635a339e-c7cc-41d4-b093-70829b1d1e9a": {
     "id": "635a339e-c7cc-41d4-b093-70829b1d1e9a",
     "prev": "af1822e3-f990-42c8-81a2-0fb94cf833c8",
     "regions": {
      "933941a1-19a1-46d2-a43a-b14a481caac9": {
       "attrs": {
        "height": 0.8,
        "width": 0.8,
        "x": 0.1,
        "y": 0.1
       },
       "content": {
        "cell": "12a03f18-57c0-4c31-87e2-9059d9611db2",
        "part": "whole"
       },
       "id": "933941a1-19a1-46d2-a43a-b14a481caac9"
      }
     }
    },
    "6f1c4fcf-3239-41de-8ea4-567a0460f174": {
     "id": "6f1c4fcf-3239-41de-8ea4-567a0460f174",
     "prev": null,
     "regions": {
      "52e01f3b-046b-455e-a66c-11a1a7205479": {
       "attrs": {
        "height": 0.8,
        "width": 0.8,
        "x": 0.1,
        "y": 0.1
       },
       "content": {
        "cell": "f112a4e6-5736-42ff-8d78-50b102c12687",
        "part": "whole"
       },
       "id": "52e01f3b-046b-455e-a66c-11a1a7205479"
      }
     }
    },
    "7c14b0f9-350c-40b9-89cf-51a4c10de834": {
     "id": "7c14b0f9-350c-40b9-89cf-51a4c10de834",
     "prev": "59cbcb23-dec3-4b67-8d10-63869bec3769",
     "regions": {
      "e25b0645-7ce9-45e6-9b44-b78b9d4c97cf": {
       "attrs": {
        "height": 0.8,
        "width": 0.8,
        "x": 0.1,
        "y": 0.1
       },
       "content": {
        "cell": "b8d9d474-8f0d-4c97-936c-b14289c0f98c",
        "part": "whole"
       },
       "id": "e25b0645-7ce9-45e6-9b44-b78b9d4c97cf"
      }
     }
    },
    "7ca85de3-052d-4e2c-913f-4c2a1310c34e": {
     "id": "7ca85de3-052d-4e2c-913f-4c2a1310c34e",
     "prev": "635a339e-c7cc-41d4-b093-70829b1d1e9a",
     "regions": {
      "3d83bd89-306f-45c5-b0d2-707b343c3189": {
       "attrs": {
        "height": 0.8,
        "width": 0.8,
        "x": 0.1,
        "y": 0.1
       },
       "content": {
        "cell": "0da84f1e-acb7-406f-a147-ae9c4cdd60d2",
        "part": "whole"
       },
       "id": "3d83bd89-306f-45c5-b0d2-707b343c3189"
      }
     }
    },
    "871ac746-e348-4fb7-b2fe-12d0c7ba18c8": {
     "id": "871ac746-e348-4fb7-b2fe-12d0c7ba18c8",
     "prev": "111e2496-55ff-4fab-8cd5-6e11a2757a23",
     "regions": {
      "b4818f49-0bfa-4c6f-8ae9-ff8cc3e3e264": {
       "attrs": {
        "height": 0.8,
        "width": 0.8,
        "x": 0.1,
        "y": 0.1
       },
       "content": {
        "cell": "29b4a547-1afb-4532-b586-0ec2f3cea1fa",
        "part": "whole"
       },
       "id": "b4818f49-0bfa-4c6f-8ae9-ff8cc3e3e264"
      }
     }
    },
    "87e2b20d-ebe3-4277-9335-09d1f4e65358": {
     "id": "87e2b20d-ebe3-4277-9335-09d1f4e65358",
     "prev": "0674f70e-c7a6-46b3-ab0f-ad4aef6d10f9",
     "regions": {
      "8cfa82a8-68e6-4c7c-9541-e834266b0bb3": {
       "attrs": {
        "height": 0.8,
        "width": 0.8,
        "x": 0.1,
        "y": 0.1
       },
       "content": {
        "cell": "14cba1e1-755f-4f80-a724-ddb9a57802e7",
        "part": "whole"
       },
       "id": "8cfa82a8-68e6-4c7c-9541-e834266b0bb3"
      }
     }
    },
    "87fe19f4-edbd-46ff-94f3-f4878329e3a2": {
     "id": "87fe19f4-edbd-46ff-94f3-f4878329e3a2",
     "prev": "3624e5fd-0248-4c2e-9bb0-ccc7112a2154",
     "regions": {
      "c01750e5-2314-4d5c-9b64-1c6da6c487ab": {
       "attrs": {
        "height": 0.8,
        "width": 0.8,
        "x": 0.1,
        "y": 0.1
       },
       "content": {
        "cell": "67d2769e-d877-4395-b12e-4723a71db831",
        "part": "whole"
       },
       "id": "c01750e5-2314-4d5c-9b64-1c6da6c487ab"
      }
     }
    },
    "88192dec-a49b-4626-baef-c88110b4620d": {
     "id": "88192dec-a49b-4626-baef-c88110b4620d",
     "prev": "497a535f-253d-45f2-9862-c5c05adfa40d",
     "regions": {
      "a1b5dfe6-8d8b-465c-bcd0-770421652d1c": {
       "attrs": {
        "height": 0.8,
        "width": 0.8,
        "x": 0.1,
        "y": 0.1
       },
       "content": {
        "cell": "a66e6e00-99a3-4905-9a46-03fb360a32ed",
        "part": "whole"
       },
       "id": "a1b5dfe6-8d8b-465c-bcd0-770421652d1c"
      }
     }
    },
    "8a0744ee-70d0-461f-b664-d33625d42818": {
     "id": "8a0744ee-70d0-461f-b664-d33625d42818",
     "prev": "5bdfcb17-9f79-4db1-af37-35a5619259a7",
     "regions": {
      "19dcfe4d-a3ee-465b-9c1d-ab501cac8716": {
       "attrs": {
        "height": 0.8,
        "width": 0.8,
        "x": 0.1,
        "y": 0.1
       },
       "content": {
        "cell": "1199d624-61ea-4e67-b995-a2f7bf738481",
        "part": "whole"
       },
       "id": "19dcfe4d-a3ee-465b-9c1d-ab501cac8716"
      }
     }
    },
    "90928a03-aa2d-4726-8804-bfb18d53efb7": {
     "id": "90928a03-aa2d-4726-8804-bfb18d53efb7",
     "prev": "871ac746-e348-4fb7-b2fe-12d0c7ba18c8",
     "regions": {
      "27ec7843-d03b-48b6-a5d4-ced401554578": {
       "attrs": {
        "height": 0.8,
        "width": 0.8,
        "x": 0.1,
        "y": 0.1
       },
       "content": {
        "cell": "c39d23a3-71e1-4198-b83d-07005dd749a7",
        "part": "whole"
       },
       "id": "27ec7843-d03b-48b6-a5d4-ced401554578"
      }
     }
    },
    "a4bf0aa6-0834-4608-9bf8-5f93fda5aae5": {
     "id": "a4bf0aa6-0834-4608-9bf8-5f93fda5aae5",
     "prev": "c0539893-f875-447e-80ec-be95671c74e8",
     "regions": {
      "3ce701cf-c5d2-409f-8d6a-c79c33262fbc": {
       "attrs": {
        "height": 0.8,
        "width": 0.8,
        "x": 0.1,
        "y": 0.1
       },
       "content": {
        "cell": "64e6d718-b29b-4cd8-b887-5db155aef6ba",
        "part": "whole"
       },
       "id": "3ce701cf-c5d2-409f-8d6a-c79c33262fbc"
      }
     }
    },
    "a5a39a79-9354-4d40-953a-11f56ebe10d8": {
     "id": "a5a39a79-9354-4d40-953a-11f56ebe10d8",
     "prev": "279fa5c1-cbe1-4768-a444-ab6b7da604b0",
     "regions": {
      "d3295f48-ab81-4a2b-87b9-cafe93c648d8": {
       "attrs": {
        "height": 0.8,
        "width": 0.8,
        "x": 0.1,
        "y": 0.1
       },
       "content": {
        "cell": "52d2c1db-05f9-4933-a3be-5d5f31a1c671",
        "part": "whole"
       },
       "id": "d3295f48-ab81-4a2b-87b9-cafe93c648d8"
      }
     }
    },
    "aa757825-fac7-4e62-adfa-6a4736332184": {
     "id": "aa757825-fac7-4e62-adfa-6a4736332184",
     "prev": "38566e44-3284-4374-80ae-0c54fd3e3ad2",
     "regions": {
      "a0b9a410-9d11-41fd-8cd1-8511b0ab0759": {
       "attrs": {
        "height": 0.8,
        "width": 0.8,
        "x": 0.1,
        "y": 0.1
       },
       "content": {
        "cell": "4dd8eb37-5251-4577-8299-2a100e80137e",
        "part": "whole"
       },
       "id": "a0b9a410-9d11-41fd-8cd1-8511b0ab0759"
      }
     }
    },
    "af1822e3-f990-42c8-81a2-0fb94cf833c8": {
     "id": "af1822e3-f990-42c8-81a2-0fb94cf833c8",
     "prev": "8a0744ee-70d0-461f-b664-d33625d42818",
     "regions": {
      "4679bc3d-8f5d-491c-8f65-4880e45cd8eb": {
       "attrs": {
        "height": 0.8,
        "width": 0.8,
        "x": 0.1,
        "y": 0.1
       },
       "content": {
        "cell": "e2499d2e-1098-4484-adbc-50ea310f9188",
        "part": "whole"
       },
       "id": "4679bc3d-8f5d-491c-8f65-4880e45cd8eb"
      }
     }
    },
    "b7d7c657-eb43-4e4e-8e85-c3a0b89eff48": {
     "id": "b7d7c657-eb43-4e4e-8e85-c3a0b89eff48",
     "prev": "88192dec-a49b-4626-baef-c88110b4620d",
     "regions": {
      "0ce868e8-7539-4bf4-a05c-ef0de170061a": {
       "attrs": {
        "height": 0.8,
        "width": 0.8,
        "x": 0.1,
        "y": 0.1
       },
       "content": {
        "cell": "0c0b4941-fab7-4469-9b46-d134e3aeb244",
        "part": "whole"
       },
       "id": "0ce868e8-7539-4bf4-a05c-ef0de170061a"
      }
     }
    },
    "c0539893-f875-447e-80ec-be95671c74e8": {
     "id": "c0539893-f875-447e-80ec-be95671c74e8",
     "prev": "c3a22b1c-94a0-4fff-98ab-4ae7648b3859",
     "regions": {
      "58b46157-f002-4a1c-a889-5abb3ce50184": {
       "attrs": {
        "height": 0.8,
        "width": 0.8,
        "x": 0.1,
        "y": 0.1
       },
       "content": {
        "cell": "ccde68be-8cbc-43e7-9799-8b3ef1feb069",
        "part": "whole"
       },
       "id": "58b46157-f002-4a1c-a889-5abb3ce50184"
      }
     }
    },
    "c348d1d6-a667-4229-9367-332331df9cc3": {
     "id": "c348d1d6-a667-4229-9367-332331df9cc3",
     "prev": "6f1c4fcf-3239-41de-8ea4-567a0460f174",
     "regions": {
      "2fd03932-d87f-4f3c-b9e4-a4687624ee1a": {
       "attrs": {
        "height": 0.8,
        "width": 0.8,
        "x": 0.1,
        "y": 0.1
       },
       "content": {
        "cell": "95a9e0d2-8a48-4ef4-881e-3cd1b60b5c3e",
        "part": "whole"
       },
       "id": "2fd03932-d87f-4f3c-b9e4-a4687624ee1a"
      }
     }
    },
    "c3a22b1c-94a0-4fff-98ab-4ae7648b3859": {
     "id": "c3a22b1c-94a0-4fff-98ab-4ae7648b3859",
     "prev": "cfe6b932-e0c9-4e50-8d17-53fcd9744b12",
     "regions": {
      "bb3e7569-dd15-4e6d-8436-6fe574c73869": {
       "attrs": {
        "height": 0.8,
        "width": 0.8,
        "x": 0.1,
        "y": 0.1
       },
       "content": {
        "cell": "5a52977c-d623-4fb1-82df-d6feaec20e96",
        "part": "whole"
       },
       "id": "bb3e7569-dd15-4e6d-8436-6fe574c73869"
      }
     }
    },
    "cb76ba8f-db22-40ea-9b30-c68e655d44d3": {
     "id": "cb76ba8f-db22-40ea-9b30-c68e655d44d3",
     "prev": "43a91c8a-4e34-430d-bec9-779b694cc223",
     "regions": {
      "3f0d2f85-3d7f-487b-8350-d3764b40b702": {
       "attrs": {
        "height": 0.8,
        "width": 0.8,
        "x": 0.1,
        "y": 0.1
       },
       "content": {
        "cell": "b889b3f2-ed97-4378-a4c7-0e4a293cf391",
        "part": "whole"
       },
       "id": "3f0d2f85-3d7f-487b-8350-d3764b40b702"
      }
     }
    },
    "cfe6b932-e0c9-4e50-8d17-53fcd9744b12": {
     "id": "cfe6b932-e0c9-4e50-8d17-53fcd9744b12",
     "prev": "7ca85de3-052d-4e2c-913f-4c2a1310c34e",
     "regions": {
      "68c1fb94-37b1-44c3-b519-253f1b051f6f": {
       "attrs": {
        "height": 0.8,
        "width": 0.8,
        "x": 0.1,
        "y": 0.1
       },
       "content": {
        "cell": "f2671bbf-da65-4637-bc78-683d6e4fae66",
        "part": "whole"
       },
       "id": "68c1fb94-37b1-44c3-b519-253f1b051f6f"
      }
     }
    },
    "d850c7eb-1272-41e2-91b1-c60a6138ddf0": {
     "id": "d850c7eb-1272-41e2-91b1-c60a6138ddf0",
     "prev": "87fe19f4-edbd-46ff-94f3-f4878329e3a2",
     "regions": {
      "01de364f-0acc-4922-bce0-80e2b9458ab6": {
       "attrs": {
        "height": 0.8,
        "width": 0.8,
        "x": 0.1,
        "y": 0.1
       },
       "content": {
        "cell": "491cb417-4e82-4ac0-b67c-50e4b7f7467c",
        "part": "whole"
       },
       "id": "01de364f-0acc-4922-bce0-80e2b9458ab6"
      }
     }
    },
    "e0026189-0a4c-4d94-94d0-cec549ca9673": {
     "id": "e0026189-0a4c-4d94-94d0-cec549ca9673",
     "prev": "17adee46-88f0-4738-8303-2a89fbe99e53",
     "regions": {
      "efd9cefd-bb15-40ec-a829-7c37cf3bf289": {
       "attrs": {
        "height": 0.8,
        "width": 0.8,
        "x": 0.1,
        "y": 0.1
       },
       "content": {
        "cell": "81b16d4a-1681-4204-8d5f-6caa9ab523d3",
        "part": "whole"
       },
       "id": "efd9cefd-bb15-40ec-a829-7c37cf3bf289"
      }
     }
    },
    "e0bfbb44-3106-4631-92db-3df5e83aa806": {
     "id": "e0bfbb44-3106-4631-92db-3df5e83aa806",
     "prev": "aa757825-fac7-4e62-adfa-6a4736332184",
     "regions": {
      "d8553634-76e0-4556-b8da-4b9782ff79eb": {
       "attrs": {
        "height": 0.8,
        "width": 0.8,
        "x": 0.1,
        "y": 0.1
       },
       "content": {
        "cell": "a3f0ee90-0775-4eb9-bfa4-8e990d6b145e",
        "part": "whole"
       },
       "id": "d8553634-76e0-4556-b8da-4b9782ff79eb"
      }
     }
    },
    "f3becb7f-aa3e-4c90-8daa-7140f8f50cfa": {
     "id": "f3becb7f-aa3e-4c90-8daa-7140f8f50cfa",
     "prev": "e0026189-0a4c-4d94-94d0-cec549ca9673",
     "regions": {
      "4cde3039-8e37-4e41-a0d7-036e1f18157e": {
       "attrs": {
        "height": 0.8,
        "width": 0.8,
        "x": 0.1,
        "y": 0.1
       },
       "content": {
        "cell": "5149cd9d-c685-45d0-8d40-d846563f3af4",
        "part": "whole"
       },
       "id": "4cde3039-8e37-4e41-a0d7-036e1f18157e"
      }
     }
    },
    "f61b165b-a9b4-45c3-a6ec-91781b93842c": {
     "id": "f61b165b-a9b4-45c3-a6ec-91781b93842c",
     "prev": "12164edf-589e-415c-830e-0f14bd486f93",
     "regions": {
      "babe35be-8d44-41ab-a8e0-f987a6a1411e": {
       "attrs": {
        "height": 0.8,
        "width": 0.8,
        "x": 0.1,
        "y": 0.1
       },
       "content": {
        "cell": "124292b2-2262-4e7a-82ba-b48dc8d30dd3",
        "part": "whole"
       },
       "id": "babe35be-8d44-41ab-a8e0-f987a6a1411e"
      }
     }
    },
    "fbe00b72-3762-44c3-b5fc-b3fb28970a9c": {
     "id": "fbe00b72-3762-44c3-b5fc-b3fb28970a9c",
     "prev": "30195b1b-a165-472b-8253-793600df7164",
     "regions": {
      "ad0afae2-ccef-4443-b985-b25df916be97": {
       "attrs": {
        "height": 0.8,
        "width": 0.8,
        "x": 0.1,
        "y": 0.1
       },
       "content": {
        "cell": "c3a7a67c-1ace-4dbe-b4b7-7ea45c0c5b3b",
        "part": "whole"
       },
       "id": "ad0afae2-ccef-4443-b985-b25df916be97"
      }
     }
    }
   },
   "themes": {
    "default": "c82e89b8-5dc3-461e-9c29-47fb5ee7c523",
    "theme": {
     "0e81520d-2c7d-46f6-9a7e-b886de400f02": {
      "backgrounds": {
       "backgroundColor": {
        "background-color": "backgroundColor",
        "id": "backgroundColor"
       }
      },
      "id": "0e81520d-2c7d-46f6-9a7e-b886de400f02",
      "palette": {
       "backgroundColor": {
        "id": "backgroundColor",
        "rgb": [
         253,
         246,
         227
        ]
       },
       "headingColor": {
        "id": "headingColor",
        "rgb": [
         88,
         110,
         117
        ]
       },
       "linkColor": {
        "id": "linkColor",
        "rgb": [
         38,
         139,
         210
        ]
       },
       "mainColor": {
        "id": "mainColor",
        "rgb": [
         101,
         123,
         131
        ]
       }
      },
      "rules": {
       "a": {
        "color": "linkColor"
       },
       "h1": {
        "color": "headingColor",
        "font-family": "Oswald",
        "font-size": 7
       },
       "h2": {
        "color": "headingColor",
        "font-family": "Oswald",
        "font-size": 5
       },
       "h3": {
        "color": "headingColor",
        "font-family": "Oswald",
        "font-size": 3.75
       },
       "h4": {
        "color": "headingColor",
        "font-family": "Oswald",
        "font-size": 3
       },
       "h5": {
        "color": "headingColor",
        "font-family": "Oswald"
       },
       "h6": {
        "color": "headingColor",
        "font-family": "Oswald"
       },
       "h7": {
        "color": "headingColor",
        "font-family": "Oswald"
       },
       "li": {
        "color": "mainColor",
        "font-family": "Lato",
        "font-size": 5
       },
       "p": {
        "color": "mainColor",
        "font-family": "Lato",
        "font-size": 5
       }
      },
      "text-base": {
       "color": "mainColor",
       "font-family": "Lato",
       "font-size": 5
      }
     },
     "565c53b1-820a-418b-bf0a-11b258fe7a3b": {
      "backgrounds": {
       "backgroundColor": {
        "background-color": "backgroundColor",
        "id": "backgroundColor"
       }
      },
      "id": "565c53b1-820a-418b-bf0a-11b258fe7a3b",
      "palette": {
       "backgroundColor": {
        "id": "backgroundColor",
        "rgb": [
         34,
         34,
         34
        ]
       },
       "headingColor": {
        "id": "headingColor",
        "rgb": [
         238,
         238,
         238
        ]
       },
       "linkColor": {
        "id": "linkColor",
        "rgb": [
         170,
         34,
         51
        ]
       },
       "mainColor": {
        "id": "mainColor",
        "rgb": [
         238,
         238,
         238
        ]
       }
      },
      "rules": {
       "a": {
        "color": "linkColor"
       },
       "h1": {
        "color": "headingColor",
        "font-family": "Ubuntu",
        "font-size": 7
       },
       "h2": {
        "color": "headingColor",
        "font-family": "Ubuntu",
        "font-size": 5
       },
       "h3": {
        "color": "headingColor",
        "font-family": "Ubuntu",
        "font-size": 3.75
       },
       "h4": {
        "color": "headingColor",
        "font-family": "Ubuntu",
        "font-size": 3
       },
       "h5": {
        "color": "headingColor",
        "font-family": "Ubuntu"
       },
       "h6": {
        "color": "headingColor",
        "font-family": "Ubuntu"
       },
       "h7": {
        "color": "headingColor",
        "font-family": "Ubuntu"
       },
       "li": {
        "color": "mainColor",
        "font-family": "Ubuntu",
        "font-size": 5
       },
       "p": {
        "color": "mainColor",
        "font-family": "Ubuntu",
        "font-size": 5
       }
      },
      "text-base": {
       "color": "mainColor",
       "font-family": "Ubuntu",
       "font-size": 5
      }
     },
     "c82e89b8-5dc3-461e-9c29-47fb5ee7c523": {
      "backgrounds": {
       "backgroundColor": {
        "background-color": "backgroundColor",
        "id": "backgroundColor"
       }
      },
      "id": "c82e89b8-5dc3-461e-9c29-47fb5ee7c523",
      "palette": {
       "backgroundColor": {
        "id": "backgroundColor",
        "rgb": [
         247,
         243,
         222
        ]
       },
       "headingColor": {
        "id": "headingColor",
        "rgb": [
         51,
         51,
         51
        ]
       },
       "linkColor": {
        "id": "linkColor",
        "rgb": [
         139,
         116,
         61
        ]
       },
       "mainColor": {
        "id": "mainColor",
        "rgb": [
         51,
         51,
         51
        ]
       }
      },
      "rules": {
       "a": {
        "color": "linkColor"
       },
       "h1": {
        "color": "headingColor",
        "font-family": "Oswald",
        "font-size": 7
       },
       "h2": {
        "color": "headingColor",
        "font-family": "Oswald",
        "font-size": 5
       },
       "h3": {
        "color": "headingColor",
        "font-family": "Oswald",
        "font-size": 3.75
       },
       "h4": {
        "color": "headingColor",
        "font-family": "Oswald",
        "font-size": 3
       },
       "h5": {
        "color": "headingColor",
        "font-family": "Oswald"
       },
       "h6": {
        "color": "headingColor",
        "font-family": "Oswald"
       },
       "h7": {
        "color": "headingColor",
        "font-family": "Oswald"
       },
       "li": {
        "color": "mainColor",
        "font-family": "Lato",
        "font-size": 5
       },
       "p": {
        "color": "mainColor",
        "font-family": "Lato",
        "font-size": 5
       }
      },
      "text-base": {
       "color": "mainColor",
       "font-family": "Lato",
       "font-size": 5
      }
     }
    }
   }
  }
 },
 "nbformat": 4,
 "nbformat_minor": 1
}
